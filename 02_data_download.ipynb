# 📈 02. Download USD/JPY Forex Data

In this notebook, you'll use the `yfinance` API to download historical USD/JPY forex data.  
（このノートでは、yfinanceを使ってUSD/JPYの為替データを取得します）

# 📦 Step 1: Install required package
!pip install yfinance --quiet

# 📥 Step 2: Import libraries
import yfinance as yf
import pandas as pd
import matplotlib.pyplot as plt

# 📊 Step 3: Download USD/JPY daily data from Yahoo Finance
# 'USDJPY=X' is the correct ticker symbol for USD/JPY exchange rate
df = yf.download("USDJPY=X", start="2023-01-01", end="2023-12-31")
df = df.dropna()
df.head()

# 📈 Step 4: Plot closing price
plt.figure(figsize=(12,5))
plt.plot(df["Close"], label="USD/JPY Close")
plt.title("USD/JPY Exchange Rate (2023)")
plt.xlabel("Date")
plt.ylabel("Price")
plt.grid(True)
plt.legend()
plt.show()

# 💾 Step 5: Save data as CSV for later use
df.to_csv("usd_jpy_2023.csv")
print("✅ Data saved as 'usd_jpy_2023.csv'")

## 💡 Tips & Troubleshooting

- If data is empty, check the ticker format:  
  Use `"USDJPY=X"` for Yahoo Finance via yfinance
- API rate limits may apply if you repeat downloads rapidly
