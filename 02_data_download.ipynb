{
 "cells": [
  {
   "cell_type": "markdown",
   "metadata": {},
   "source": [
    "# 📈 02. Download USD/JPY Forex Data\n",
    "\n",
    "In this notebook, you'll use the `yfinance` API to download historical USD/JPY forex data.  \n",
    "（このノートでは、yfinanceを使ってUSD/JPYの為替データを取得します）"
   ]
  },
  {
   "cell_type": "code",
   "execution_count": null,
   "metadata": {},
   "outputs": [],
   "source": [
    "# 📦 Step 1: Install required package\n",
    "!pip install yfinance --quiet"
   ]
  },
  {
   "cell_type": "code",
   "execution_count": null,
   "metadata": {},
   "outputs": [],
   "source": [
    "# 📥 Step 2: Import libraries\n",
    "import yfinance as yf\n",
    "import pandas as pd\n",
    "import matplotlib.pyplot as plt"
   ]
  },
  {
   "cell_type": "code",
   "execution_count": null,
   "metadata": {},
   "outputs": [],
   "source": [
    "# 📊 Step 3: Download USD/JPY daily data from Yahoo Finance\n",
    "# 'USDJPY=X' is the correct ticker symbol for USD/JPY exchange rate\n",
    "df = yf.download(\"USDJPY=X\", start=\"2023-01-01\", end=\"2023-12-31\")\n",
    "df = df.dropna()\n",
    "df.head()"
   ]
  },
  {
   "cell_type": "code",
   "execution_count": null,
   "metadata": {},
   "outputs": [],
   "source": [
    "# 📈 Step 4: Plot closing price\n",
    "plt.figure(figsize=(12,5))\n",
    "plt.plot(df[\"Close\"], label=\"USD/JPY Close\")\n",
    "plt.title(\"USD/JPY Exchange Rate (2023)\")\n",
    "plt.xlabel(\"Date\")\n",
    "plt.ylabel(\"Price\")\n",
    "plt.grid(True)\n",
    "plt.legend()\n",
    "plt.show()"
   ]
  },
  {
   "cell_type": "code",
   "execution_count": null,
   "metadata": {},
   "outputs": [],
   "source": [
    "# 💾 Step 5: Save data as CSV for later use\n",
    "df.to_csv(\"usd_jpy_2023.csv\")\n",
    "print(\"✅ Data saved as 'usd_jpy_2023.csv'\")"
   ]
  },
  {
   "cell_type": "markdown",
   "metadata": {},
   "source": [
    "## 💡 Tips & Troubleshooting\n",
    "\n",
    "- If data is empty, check the ticker format:  \n",
    "  Use `\"USDJPY=X\"` for Yahoo Finance via yfinance\n",
    "- API rate limits may apply if you repeat downloads rapidly"
   ]
  }
 ],
 "metadata": {
  "colab": {
   "provenance": []
  },
  "kernelspec": {
   "display_name": "Python 3",
   "language": "python",
   "name": "python3"
  },
  "language_info": {
   "name": "python"
  }
 },
 "nbformat": 4,
 "nbformat_minor": 0
}
