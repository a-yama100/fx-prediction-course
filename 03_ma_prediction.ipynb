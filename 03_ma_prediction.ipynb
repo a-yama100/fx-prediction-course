# 📈 03. Simple Moving Average (SMA) Forecast

In this notebook, we apply simple moving averages (SMA) to the USD/JPY exchange rate data to visualize trends and make basic predictions.
（このノートでは、USD/JPYの為替データに移動平均（SMA）を適用して、トレンド分析と予測の基本を体験します）

# Colabでは必要な場合だけ
!pip install yfinance matplotlib pandas --quiet

import pandas as pd
import matplotlib.pyplot as plt
import yfinance as yf

# ✅ オプション1: データを再取得
df = yf.download("USDJPY=X", start="2023-01-01", end="2023-12-31")

# ✅ オプション2: 前ノートで保存したCSVから読込
# df = pd.read_csv("usd_jpy_2023.csv", index_col=0, parse_dates=True)

df = df[['Close']].dropna()
df.head()

df['SMA_10'] = df['Close'].rolling(window=10).mean()
df['SMA_30'] = df['Close'].rolling(window=30).mean()

plt.figure(figsize=(14,6))
plt.plot(df['Close'], label='Close Price', alpha=0.8)
plt.plot(df['SMA_10'], label='SMA 10-day', linestyle='--')
plt.plot(df['SMA_30'], label='SMA 30-day', linestyle=':')
plt.title("USD/JPY with 10 & 30-day SMA")
plt.xlabel("Date")
plt.ylabel("Price")
plt.legend()
plt.grid(True)
plt.show()

next_day_forecast = df['SMA_10'].iloc[-1]
print(f"📈 Predicted next-day price based on 10-day SMA: {next_day_forecast:.2f}")

## ✅ Summary

- SMA is a basic yet powerful tool for identifying price trends.
- In this example, we used 10-day and 30-day SMA on USD/JPY data.
- The last SMA value can be used as a naive short-term forecast.

（このノートでは、移動平均を使って為替レートのトレンドと予測を視覚化しました）

