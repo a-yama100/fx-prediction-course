{
 "cells": [
  {
   "cell_type": "markdown",
   "metadata": {},
   "source": [
    "# 📈 03. Simple Moving Average (SMA) Forecast\n",
    "\n",
    "In this notebook, we apply simple moving averages (SMA) to the USD/JPY exchange rate data to visualize trends and make basic predictions.  \n",
    "（このノートでは、USD/JPYの為替データに移動平均（SMA）を適用して、トレンド分析と予測の基本を体験します）"
   ]
  },
  {
   "cell_type": "code",
   "execution_count": null,
   "metadata": {},
   "outputs": [],
   "source": [
    "# Colabでは必要な場合だけ\n",
    "!pip install yfinance matplotlib pandas --quiet"
   ]
  },
  {
   "cell_type": "code",
   "execution_count": null,
   "metadata": {},
   "outputs": [],
   "source": [
    "import pandas as pd\n",
    "import matplotlib.pyplot as plt\n",
    "import yfinance as yf"
   ]
  },
  {
   "cell_type": "code",
   "execution_count": null,
   "metadata": {},
   "outputs": [],
   "source": [
    "# ✅ オプション1: データを再取得\n",
    "df = yf.download(\"USDJPY=X\", start=\"2023-01-01\", end=\"2023-12-31\")"
   ]
  },
  {
   "cell_type": "code",
   "execution_count": null,
   "metadata": {},
   "outputs": [],
   "source": [
    "# ✅ オプション2: 前ノートで保存したCSVから読込\n",
    "# df = pd.read_csv(\"usd_jpy_2023.csv\", index_col=0, parse_dates=True)"
   ]
  },
  {
   "cell_type": "code",
   "execution_count": null,
   "metadata": {},
   "outputs": [],
   "source": [
    "df = df[['Close']].dropna()\n",
    "df.head()"
   ]
  },
  {
   "cell_type": "code",
   "execution_count": null,
   "metadata": {},
   "outputs": [],
   "source": [
    "df['SMA_10'] = df['Close'].rolling(window=10).mean()\n",
    "df['SMA_30'] = df['Close'].rolling(window=30).mean()"
   ]
  },
  {
   "cell_type": "code",
   "execution_count": null,
   "metadata": {},
   "outputs": [],
   "source": [
    "plt.figure(figsize=(14,6))\n",
    "plt.plot(df['Close'], label='Close Price', alpha=0.8)\n",
    "plt.plot(df['SMA_10'], label='SMA 10-day', linestyle='--')\n",
    "plt.plot(df['SMA_30'], label='SMA 30-day', linestyle=':')\n",
    "plt.title(\"USD/JPY with 10 & 30-day SMA\")\n",
    "plt.xlabel(\"Date\")\n",
    "plt.ylabel(\"Price\")\n",
    "plt.legend()\n",
    "plt.grid(True)\n",
    "plt.show()"
   ]
  },
  {
   "cell_type": "code",
   "execution_count": null,
   "metadata": {},
   "outputs": [],
   "source": [
    "next_day_forecast = df['SMA_10'].iloc[-1]\n",
    "print(f\"📈 Predicted next-day price based on 10-day SMA: {next_day_forecast:.2f}\")"
   ]
  },
  {
   "cell_type": "markdown",
   "metadata": {},
   "source": [
    "## ✅ Summary\n",
    "\n",
    "- SMA is a basic yet powerful tool for identifying price trends.\n",
    "- In this example, we used 10-day and 30-day SMA on USD/JPY data.\n",
    "- The last SMA value can be used as a naive short-term forecast.\n",
    "\n",
    "（このノートでは、移動平均を使って為替レートのトレンドと予測を視覚化しました）"
   ]
  }
 ],
 "metadata": {
  "colab": {
   "provenance": []
  },
  "kernelspec": {
   "display_name": "Python 3",
   "language": "python",
   "name": "python3"
  },
  "language_info": {
   "name": "python"
  }
 },
 "nbformat": 4,
 "nbformat_minor": 0
}
