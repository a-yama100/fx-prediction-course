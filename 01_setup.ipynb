# 🛠️ 01. Python Environment Setup

This notebook prepares your environment to run all FX prediction examples.  
（このノートブックでは、今後のFX予測ノートを動かすための準備を行います）
# 📦 Step 1: Install necessary libraries (Colab only)
!pip install -q yfinance statsmodels scikit-learn

# ✅ Step 2: Import libraries to confirm they're working
import pandas as pd
import numpy as np
import yfinance as yf
import statsmodels.api as sm
import matplotlib.pyplot as plt

print("✅ All libraries loaded successfully!")

# 📂 Step 3: (Optional) Connect to Google Drive
from google.colab import drive
drive.mount('/content/drive')

## ✅ You're Ready!

You can now proceed to the next notebook:  
👉 `02_data_download.ipynb`

もし上記でエラーが出た場合は、ライブラリのインストールや再実行を試してください。
