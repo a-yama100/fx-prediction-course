{
 "cells": [
  {
   "cell_type": "markdown",
   "metadata": {},
   "source": [
    "# 🛠️ 01. Python Environment Setup\n",
    "\n",
    "This notebook prepares your environment to run all FX prediction examples.  \n",
    "（このノートブックでは、今後のFX予測ノートを動かすための準備を行います）"
   ]
  },
  {
   "cell_type": "code",
   "execution_count": null,
   "metadata": {},
   "outputs": [],
   "source": [
    "# 📦 Step 1: Install necessary libraries (Colab only)\n",
    "!pip install -q yfinance statsmodels scikit-learn"
   ]
  },
  {
   "cell_type": "code",
   "execution_count": null,
   "metadata": {},
   "outputs": [],
   "source": [
    "# ✅ Step 2: Import libraries to confirm they're working\n",
    "import pandas as pd\n",
    "import numpy as np\n",
    "import yfinance as yf\n",
    "import statsmodels.api as sm\n",
    "import matplotlib.pyplot as plt\n",
    "\n",
    "print(\"✅ All libraries loaded successfully!\")"
   ]
  },
  {
   "cell_type": "code",
   "execution_count": null,
   "metadata": {},
   "outputs": [],
   "source": [
    "# 📂 Step 3: (Optional) Connect to Google Drive\n",
    "from google.colab import drive\n",
    "drive.mount('/content/drive')"
   ]
  },
  {
   "cell_type": "markdown",
   "metadata": {},
   "source": [
    "## ✅ You're Ready!\n",
    "\n",
    "You can now proceed to the next notebook:  \n",
    "👉 `02_data_download.ipynb`\n",
    "\n",
    "もし上記でエラーが出た場合は、ライブラリのインストールや再実行を試してください。"
   ]
  }
 ],
 "metadata": {
  "colab": {
   "provenance": []
  },
  "kernelspec": {
   "display_name": "Python 3",
   "language": "python",
   "name": "python3"
  },
  "language_info": {
   "name": "python"
  }
 },
 "nbformat": 4,
 "nbformat_minor": 0
}
