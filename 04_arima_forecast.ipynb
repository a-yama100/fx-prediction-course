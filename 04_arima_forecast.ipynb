{
 "cells": [
  {
   "cell_type": "markdown",
   "metadata": {},
   "source": [
    "# 📈 04. Time Series Forecast with ARIMA\n",
    "\n",
    "In this notebook, we apply an ARIMA model to the USD/JPY exchange rate to forecast future values.  \n",
    "（このノートでは、USD/JPYの時系列データにARIMAモデルを適用して予測を行います）"
   ]
  },
  {
   "cell_type": "code",
   "execution_count": null,
   "metadata": {},
   "outputs": [],
   "source": [
    "!pip install yfinance statsmodels --quiet"
   ]
  },
  {
   "cell_type": "code",
   "execution_count": null,
   "metadata": {},
   "outputs": [],
   "source": [
    "import yfinance as yf\n",
    "import pandas as pd\n",
    "import matplotlib.pyplot as plt\n",
    "import statsmodels.api as sm\n",
    "from datetime import timedelta"
   ]
  },
  {
   "cell_type": "code",
   "execution_count": null,
   "metadata": {},
   "outputs": [],
   "source": [
    "# USD/JPY の日次データ取得（2023年分）\n",
    "df = yf.download(\"USDJPY=X\", start=\"2023-01-01\", end=\"2023-12-31\")\n",
    "df = df[['Close']].dropna()\n",
    "df.head()"
   ]
  },
  {
   "cell_type": "code",
   "execution_count": null,
   "metadata": {},
   "outputs": [],
   "source": [
    "# 時系列データのインデックスを確認\n",
    "df.index = pd.to_datetime(df.index)\n",
    "ts = df['Close']"
   ]
  },
  {
   "cell_type": "code",
   "execution_count": null,
   "metadata": {},
   "outputs": [],
   "source": [
    "# ARIMA(p=5, d=1, q=0) を例に使用（最適化は次ステップ）\n",
    "model = sm.tsa.ARIMA(ts, order=(5, 1, 0))\n",
    "results = model.fit()\n",
    "\n",
    "forecast_steps = 10\n",
    "forecast = results.get_forecast(steps=forecast_steps)\n",
    "predicted_mean = forecast.predicted_mean\n",
    "conf_int = forecast.conf_int()"
   ]
  },
  {
   "cell_type": "code",
   "execution_count": null,
   "metadata": {},
   "outputs": [],
   "source": [
    "# 日付インデックスの生成\n",
    "last_date = ts.index[-1]\n",
    "future_dates = [last_date + timedelta(days=i) for i in range(1, forecast_steps+1)]\n",
    "\n",
    "# DataFrame化\n",
    "forecast_df = pd.DataFrame({\n",
    "    'Forecast': predicted_mean.values,\n",
    "    'Lower CI': conf_int.iloc[:, 0],\n",
    "    'Upper CI': conf_int.iloc[:, 1]\n",
    "}, index=future_dates)\n",
    "\n",
    "forecast_df.head()"
   ]
  },
  {
   "cell_type": "code",
   "execution_count": null,
   "metadata": {},
   "outputs": [],
   "source": [
    "plt.figure(figsize=(14,6))\n",
    "plt.plot(ts, label='Actual')\n",
    "plt.plot(forecast_df['Forecast'], label='Forecast', color='orange')\n",
    "plt.fill_between(forecast_df.index, forecast_df['Lower CI'], forecast_df['Upper CI'],\n",
    "                 color='gray', alpha=0.3, label='Confidence Interval')\n",
    "plt.title('USD/JPY Forecast using ARIMA')\n",
    "plt.xlabel('Date')\n",
    "plt.ylabel('Exchange Rate')\n",
    "plt.legend()\n",
    "plt.grid(True)\n",
    "plt.show()"
   ]
  },
  {
   "cell_type": "markdown",
   "metadata": {},
   "source": [
    "## ✅ Summary\n",
    "\n",
    "- ARIMA(5,1,0) was applied to USD/JPY closing price data\n",
    "- A 10-day forecast was generated with confidence intervals\n",
    "- You can tune the model or try other ARIMA parameters\n",
    "\n",
    "（このノートでは、ARIMAモデルで為替レートの10日先を予測し、グラフで可視化しました）"
   ]
  }
 ],
 "metadata": {
  "colab": { "provenance": [] },
  "kernelspec": {
   "display_name": "Python 3",
   "language": "python",
   "name": "python3"
  },
  "language_info": { "name": "python" }
 },
 "nbformat": 4,
 "nbformat_minor": 0
}
